{
  "nbformat": 4,
  "nbformat_minor": 0,
  "metadata": {
    "kernelspec": {
      "display_name": "Python 3",
      "language": "python",
      "name": "python3"
    },
    "language_info": {
      "codemirror_mode": {
        "name": "ipython",
        "version": 3
      },
      "file_extension": ".py",
      "mimetype": "text/x-python",
      "name": "python",
      "nbconvert_exporter": "python",
      "pygments_lexer": "ipython3",
      "version": "3.8.3"
    },
    "colab": {
      "name": "Fashion_Classification.ipynb",
      "provenance": []
    }
  },
  "cells": [
    {
      "cell_type": "markdown",
      "metadata": {
        "id": "IyoJ-jXHijpa"
      },
      "source": [
        "# Fashion Classification"
      ]
    },
    {
      "cell_type": "markdown",
      "metadata": {
        "id": "gu1W295iijpe"
      },
      "source": [
        "### Importing Neccessary Libraries"
      ]
    },
    {
      "cell_type": "code",
      "metadata": {
        "id": "z6KQMp7Tijpg"
      },
      "source": [
        "import numpy as np#used for numerical analysis\n",
        "import tensorflow #open source used for both ML and DL for computation\n",
        "from tensorflow.keras.models import Sequential #it is a plain stack of layers\n",
        "from tensorflow.keras import layers #A layer consists of a tensor-in tensor-out computation function\n",
        "#Dense layer is the regular deeply connected neural network layer\n",
        "from tensorflow.keras.layers import Dense,Flatten\n",
        "#Faltten-used fot flattening the input or change the dimension\n",
        "from tensorflow.keras.layers import Conv2D,MaxPooling2D #Convolutional layer\n",
        "#MaxPooling2D-for downsampling the image\n",
        "from keras.preprocessing.image import ImageDataGenerator\n"
      ],
      "execution_count": null,
      "outputs": []
    },
    {
      "cell_type": "code",
      "metadata": {
        "id": "Yx_ZseoDijph",
        "outputId": "f0222f2f-b8c7-4cb2-fba1-62f5d94a45ca"
      },
      "source": [
        "tensorflow.__version__"
      ],
      "execution_count": null,
      "outputs": [
        {
          "data": {
            "text/plain": [
              "'2.3.0'"
            ]
          },
          "execution_count": 15,
          "metadata": {},
          "output_type": "execute_result"
        }
      ]
    },
    {
      "cell_type": "code",
      "metadata": {
        "id": "nx2qJw32ijpj",
        "outputId": "e7094f27-9983-40f1-ff53-478c15fc8f53"
      },
      "source": [
        "tensorflow.keras.__version__"
      ],
      "execution_count": null,
      "outputs": [
        {
          "data": {
            "text/plain": [
              "'2.4.0'"
            ]
          },
          "execution_count": 16,
          "metadata": {},
          "output_type": "execute_result"
        }
      ]
    },
    {
      "cell_type": "code",
      "metadata": {
        "id": "ho0mmNRqijpk"
      },
      "source": [
        ""
      ],
      "execution_count": null,
      "outputs": []
    },
    {
      "cell_type": "markdown",
      "metadata": {
        "id": "c3g6yNWZijpl"
      },
      "source": [
        "### Image Data Agumentation"
      ]
    },
    {
      "cell_type": "code",
      "metadata": {
        "id": "Rq0f6CXkijpm"
      },
      "source": [
        "#setting parameter for Image Data agumentation to the training data\n",
        "train_datagen = ImageDataGenerator(rescale=1./255,shear_range=0.2,zoom_range=0.2,horizontal_flip=True)\n",
        "#Image Data agumentation to the testing data\n",
        "test_datagen=ImageDataGenerator(rescale=1./255)"
      ],
      "execution_count": null,
      "outputs": []
    },
    {
      "cell_type": "code",
      "metadata": {
        "id": "lO3760soijpn"
      },
      "source": [
        ""
      ],
      "execution_count": null,
      "outputs": []
    },
    {
      "cell_type": "markdown",
      "metadata": {
        "id": "05okuiB1ijpo"
      },
      "source": [
        "### Loading our data and performing data agumentation"
      ]
    },
    {
      "cell_type": "code",
      "metadata": {
        "id": "j1vZbzjxijpp",
        "outputId": "f601d85f-f3e6-4cde-db96-400d96fc3af9"
      },
      "source": [
        "#performing data agumentation to train data\n",
        "x_train = train_datagen.flow_from_directory('dataset/train',target_size=(64, 64),batch_size=5,\n",
        "                                            color_mode='rgb',class_mode='categorical')\n",
        "#performing data agumentation to test data\n",
        "x_test = test_datagen.flow_from_directory('dataset/test',target_size=(64, 64),batch_size=5,\n",
        "                                            color_mode='rgb',class_mode='categorical') "
      ],
      "execution_count": null,
      "outputs": [
        {
          "name": "stdout",
          "output_type": "stream",
          "text": [
            "Found 3068 images belonging to 10 classes.\n",
            "Found 372 images belonging to 10 classes.\n"
          ]
        }
      ]
    },
    {
      "cell_type": "code",
      "metadata": {
        "id": "AwTRhvdOijpq",
        "outputId": "99d86c35-f552-4b06-e3fe-8e5c5a4ef10a"
      },
      "source": [
        "print(x_train.class_indices)#checking the number of classes"
      ],
      "execution_count": null,
      "outputs": [
        {
          "name": "stdout",
          "output_type": "stream",
          "text": [
            "{'dress': 0, 'hat': 1, 'longsleeve': 2, 'outwear': 3, 'pants': 4, 'shirt': 5, 'shoes': 6, 'shorts': 7, 'skirt': 8, 't-shirt': 9}\n"
          ]
        }
      ]
    },
    {
      "cell_type": "code",
      "metadata": {
        "id": "ASxw6mg_ijpr",
        "outputId": "9b03dec9-f256-456b-e70c-297a787eb3d0"
      },
      "source": [
        "print(x_test.class_indices)#checking the number of classes"
      ],
      "execution_count": null,
      "outputs": [
        {
          "name": "stdout",
          "output_type": "stream",
          "text": [
            "{'dress': 0, 'hat': 1, 'longsleeve': 2, 'outwear': 3, 'pants': 4, 'shirt': 5, 'shoes': 6, 'shorts': 7, 'skirt': 8, 't-shirt': 9}\n"
          ]
        }
      ]
    },
    {
      "cell_type": "code",
      "metadata": {
        "id": "fKpqZtb4ijpr",
        "outputId": "e06da146-750a-488a-8699-2553e9a52bb0"
      },
      "source": [
        "from collections import Counter as c\n",
        "c(x_train .labels)"
      ],
      "execution_count": null,
      "outputs": [
        {
          "data": {
            "text/plain": [
              "Counter({0: 241,\n",
              "         1: 123,\n",
              "         2: 455,\n",
              "         3: 184,\n",
              "         4: 468,\n",
              "         5: 290,\n",
              "         6: 198,\n",
              "         7: 202,\n",
              "         8: 112,\n",
              "         9: 795})"
            ]
          },
          "execution_count": 21,
          "metadata": {},
          "output_type": "execute_result"
        }
      ]
    },
    {
      "cell_type": "markdown",
      "metadata": {
        "id": "Ql6MLqPGijps"
      },
      "source": [
        "### Creating the model"
      ]
    },
    {
      "cell_type": "code",
      "metadata": {
        "id": "dZ2X4YpPijps"
      },
      "source": [
        "# Initializing the CNN\n",
        "classifier = Sequential()\n",
        "\n",
        "# First convolution layer and pooling\n",
        "classifier.add(Conv2D(32, (3, 3), input_shape=(64, 64, 3), activation='relu'))\n",
        "classifier.add(MaxPooling2D(pool_size=(2, 2)))\n",
        "# Second convolution layer and pooling\n",
        "classifier.add(Conv2D(32, (3, 3), activation='relu'))\n",
        "# input_shape is going to be the pooled feature maps from the previous convolution layer\n",
        "classifier.add(MaxPooling2D(pool_size=(2, 2)))\n",
        "\n",
        "# Flattening the layers\n",
        "classifier.add(Flatten())\n",
        "\n",
        "# Adding a fully connected layer\n",
        "classifier.add(Dense(units=128, activation='relu'))\n",
        "classifier.add(Dense(units=10, activation='softmax')) # softmax for more than 2\n",
        "\n"
      ],
      "execution_count": null,
      "outputs": []
    },
    {
      "cell_type": "code",
      "metadata": {
        "id": "Fc-t4EMUijpt",
        "outputId": "f7807eb4-149d-489d-d06d-cb140e3bb5f9"
      },
      "source": [
        "classifier.summary()#summary of our model"
      ],
      "execution_count": null,
      "outputs": [
        {
          "name": "stdout",
          "output_type": "stream",
          "text": [
            "Model: \"sequential_1\"\n",
            "_________________________________________________________________\n",
            "Layer (type)                 Output Shape              Param #   \n",
            "=================================================================\n",
            "conv2d_2 (Conv2D)            (None, 62, 62, 32)        896       \n",
            "_________________________________________________________________\n",
            "max_pooling2d_2 (MaxPooling2 (None, 31, 31, 32)        0         \n",
            "_________________________________________________________________\n",
            "conv2d_3 (Conv2D)            (None, 29, 29, 32)        9248      \n",
            "_________________________________________________________________\n",
            "max_pooling2d_3 (MaxPooling2 (None, 14, 14, 32)        0         \n",
            "_________________________________________________________________\n",
            "flatten_1 (Flatten)          (None, 6272)              0         \n",
            "_________________________________________________________________\n",
            "dense_2 (Dense)              (None, 128)               802944    \n",
            "_________________________________________________________________\n",
            "dense_3 (Dense)              (None, 10)                1290      \n",
            "=================================================================\n",
            "Total params: 814,378\n",
            "Trainable params: 814,378\n",
            "Non-trainable params: 0\n",
            "_________________________________________________________________\n"
          ]
        }
      ]
    },
    {
      "cell_type": "markdown",
      "metadata": {
        "id": "42BRgIKcijpt"
      },
      "source": [
        "### Compiling the model"
      ]
    },
    {
      "cell_type": "code",
      "metadata": {
        "id": "Gl_SURGvijpu"
      },
      "source": [
        "# Compiling the CNN\n",
        "# categorical_crossentropy for more than 2\n",
        "classifier.compile(optimizer='adam', loss='categorical_crossentropy', metrics=['accuracy']) "
      ],
      "execution_count": null,
      "outputs": []
    },
    {
      "cell_type": "markdown",
      "metadata": {
        "id": "Eft5fIQ_ijpu"
      },
      "source": [
        "## Fitting the model"
      ]
    },
    {
      "cell_type": "code",
      "metadata": {
        "scrolled": true,
        "id": "KzeWvZXBijpu",
        "outputId": "f1e2ff52-0ea3-46ce-a351-473dac6e7faa"
      },
      "source": [
        "classifier.fit_generator(\n",
        "        generator=x_train,steps_per_epoch = len(x_train),\n",
        "        epochs=20, validation_data=x_test,validation_steps = len(x_test))# No of images in test set"
      ],
      "execution_count": null,
      "outputs": [
        {
          "name": "stdout",
          "output_type": "stream",
          "text": [
            "Epoch 1/20\n",
            "614/614 [==============================] - 91s 148ms/step - loss: 1.7736 - accuracy: 0.4087 - val_loss: 1.6338 - val_accuracy: 0.4651\n",
            "Epoch 2/20\n",
            "614/614 [==============================] - 100s 163ms/step - loss: 1.2807 - accuracy: 0.5841 - val_loss: 1.1994 - val_accuracy: 0.6317\n",
            "Epoch 3/20\n",
            "614/614 [==============================] - 104s 170ms/step - loss: 1.0766 - accuracy: 0.6320 - val_loss: 1.0521 - val_accuracy: 0.6478\n",
            "Epoch 4/20\n",
            "614/614 [==============================] - 98s 159ms/step - loss: 0.9641 - accuracy: 0.6783 - val_loss: 1.1402 - val_accuracy: 0.6425\n",
            "Epoch 5/20\n",
            "614/614 [==============================] - 49s 80ms/step - loss: 0.8423 - accuracy: 0.7099 - val_loss: 1.0469 - val_accuracy: 0.6613\n",
            "Epoch 6/20\n",
            "614/614 [==============================] - 77s 126ms/step - loss: 0.7884 - accuracy: 0.7347 - val_loss: 1.1024 - val_accuracy: 0.6694\n",
            "Epoch 7/20\n",
            "614/614 [==============================] - 62s 101ms/step - loss: 0.7207 - accuracy: 0.7546 - val_loss: 1.0333 - val_accuracy: 0.6452\n",
            "Epoch 8/20\n",
            "614/614 [==============================] - 52s 84ms/step - loss: 0.6450 - accuracy: 0.7836 - val_loss: 1.0314 - val_accuracy: 0.6828\n",
            "Epoch 9/20\n",
            "614/614 [==============================] - 52s 85ms/step - loss: 0.6099 - accuracy: 0.7956 - val_loss: 1.2263 - val_accuracy: 0.6290\n",
            "Epoch 10/20\n",
            "614/614 [==============================] - 51s 84ms/step - loss: 0.5843 - accuracy: 0.7963 - val_loss: 0.9489 - val_accuracy: 0.6828\n",
            "Epoch 11/20\n",
            "614/614 [==============================] - 53s 86ms/step - loss: 0.5100 - accuracy: 0.8188 - val_loss: 1.2898 - val_accuracy: 0.6237\n",
            "Epoch 12/20\n",
            "614/614 [==============================] - 52s 84ms/step - loss: 0.4854 - accuracy: 0.8325 - val_loss: 1.1692 - val_accuracy: 0.6371\n",
            "Epoch 13/20\n",
            "614/614 [==============================] - 51s 84ms/step - loss: 0.4697 - accuracy: 0.8435 - val_loss: 1.0588 - val_accuracy: 0.6882\n",
            "Epoch 14/20\n",
            "614/614 [==============================] - 51s 83ms/step - loss: 0.4225 - accuracy: 0.8553 - val_loss: 1.0554 - val_accuracy: 0.7043\n",
            "Epoch 15/20\n",
            "614/614 [==============================] - 51s 83ms/step - loss: 0.4067 - accuracy: 0.8546 - val_loss: 1.5267 - val_accuracy: 0.6156\n",
            "Epoch 16/20\n",
            "614/614 [==============================] - 51s 84ms/step - loss: 0.3753 - accuracy: 0.8716 - val_loss: 1.2903 - val_accuracy: 0.6532\n",
            "Epoch 17/20\n",
            "614/614 [==============================] - 50s 82ms/step - loss: 0.3340 - accuracy: 0.8859 - val_loss: 1.3981 - val_accuracy: 0.6613\n",
            "Epoch 18/20\n",
            "614/614 [==============================] - 51s 83ms/step - loss: 0.3431 - accuracy: 0.8794 - val_loss: 1.2912 - val_accuracy: 0.6774\n",
            "Epoch 19/20\n",
            "614/614 [==============================] - 51s 82ms/step - loss: 0.3314 - accuracy: 0.8872 - val_loss: 1.1004 - val_accuracy: 0.7097\n",
            "Epoch 20/20\n",
            "614/614 [==============================] - 51s 83ms/step - loss: 0.3125 - accuracy: 0.9022 - val_loss: 1.0319 - val_accuracy: 0.7554\n"
          ]
        },
        {
          "data": {
            "text/plain": [
              "<tensorflow.python.keras.callbacks.History at 0x1ae7b3117f0>"
            ]
          },
          "execution_count": 25,
          "metadata": {},
          "output_type": "execute_result"
        }
      ]
    },
    {
      "cell_type": "markdown",
      "metadata": {
        "id": "PaaG2cCUijpx"
      },
      "source": [
        "### Saving our model"
      ]
    },
    {
      "cell_type": "code",
      "metadata": {
        "id": "CMlEwB7jijpx"
      },
      "source": [
        "# Save the model\n",
        "classifier.save('fashion.h5')"
      ],
      "execution_count": null,
      "outputs": []
    },
    {
      "cell_type": "code",
      "metadata": {
        "id": "_hvYtBjTijpy"
      },
      "source": [
        ""
      ],
      "execution_count": null,
      "outputs": []
    },
    {
      "cell_type": "markdown",
      "metadata": {
        "id": "D86ITiN7ijpy"
      },
      "source": [
        "### Predicting our results"
      ]
    },
    {
      "cell_type": "code",
      "metadata": {
        "id": "e_YC1cqvijpy"
      },
      "source": [
        "from tensorflow.keras.models import load_model\n",
        "from keras.preprocessing import image\n",
        "model = load_model(\"fashion.h5\") #loading the model for testing"
      ],
      "execution_count": null,
      "outputs": []
    },
    {
      "cell_type": "code",
      "metadata": {
        "id": "5iQW9euEijp0",
        "outputId": "20826d54-e496-46c5-a710-216466956e10"
      },
      "source": [
        "img = image.load_img(r\"D:\\SmartBridge\\IBM_Hack_Challenge 2021\\FashionBot\\dataset\\train\\shirt\\0d293c69-ba4f-4ffc-b6b9-fa05316a02c5.jpg\",grayscale=False,\n",
        "                     target_size= (64,64))#loading of the image\n",
        "x = image.img_to_array(img)#image to array\n",
        "x = np.expand_dims(x,axis = 0)#changing the shape\n",
        "pred = model.predict_classes(x)#predicting the classes\n",
        "pred"
      ],
      "execution_count": null,
      "outputs": [
        {
          "name": "stdout",
          "output_type": "stream",
          "text": [
            "WARNING:tensorflow:From <ipython-input-28-4bf1dde78226>:5: Sequential.predict_classes (from tensorflow.python.keras.engine.sequential) is deprecated and will be removed after 2021-01-01.\n",
            "Instructions for updating:\n",
            "Please use instead:* `np.argmax(model.predict(x), axis=-1)`,   if your model does multi-class classification   (e.g. if it uses a `softmax` last-layer activation).* `(model.predict(x) > 0.5).astype(\"int32\")`,   if your model does binary classification   (e.g. if it uses a `sigmoid` last-layer activation).\n"
          ]
        },
        {
          "data": {
            "text/plain": [
              "array([5], dtype=int64)"
            ]
          },
          "execution_count": 28,
          "metadata": {},
          "output_type": "execute_result"
        }
      ]
    },
    {
      "cell_type": "code",
      "metadata": {
        "id": "6yh2ougPijp1",
        "outputId": "743ade07-6db2-49e9-cac3-46777ec1b10b"
      },
      "source": [
        "index=['dress', 'hat', 'longsleeve', 'outwear', 'pants', 'shirt', 'shoes', 'shorts', 'skirt', 't-shirt']\n",
        "result=str(index[pred[0]])\n",
        "result"
      ],
      "execution_count": null,
      "outputs": [
        {
          "data": {
            "text/plain": [
              "'shirt'"
            ]
          },
          "execution_count": 30,
          "metadata": {},
          "output_type": "execute_result"
        }
      ]
    },
    {
      "cell_type": "code",
      "metadata": {
        "id": "u9adTBQnijp2"
      },
      "source": [
        ""
      ],
      "execution_count": null,
      "outputs": []
    }
  ]
}